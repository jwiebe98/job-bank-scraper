{
 "cells": [
  {
   "cell_type": "code",
   "execution_count": 1,
   "metadata": {},
   "outputs": [],
   "source": [
    "from os import path\n",
    "from time import sleep\n",
    "from selenium import webdriver\n",
    "from selenium.webdriver.chrome.service import Service\n",
    "from selenium.webdriver.common.by import By\n",
    "from selenium.webdriver.chrome.options import Options\n",
    "from bs4 import BeautifulSoup\n",
    "import pandas as pd\n",
    "import math\n",
    "import json\n",
    "import re"
   ]
  },
  {
   "cell_type": "code",
   "execution_count": 2,
   "metadata": {},
   "outputs": [],
   "source": [
    "BASE_URL = \"https://www.jobbank.gc.ca\"\n",
    "\n",
    "KEY_WORDS = [\"linux\", \"database\", \"code\", \"Git\", \"Devops\", \"Kafka\", \"Confluent\", \"Java\", \"C++\", \"C#\", \"Javascript\", \"CSS\", \"HTML\", \"Angular\", \"Fintech\", \"Agile\", \"software\", \"microservice\", \".net\", \"spring boot\", \"CosmosDB\", \"Azure\", \"unit test\", \"integration test\", \"test\", \"Kubernetes\", \"Insurance\", \"script\", \"visual basic\", \"vb\", \"scala\", \"SQL\", \"graphql\", \"JS\", \"typescript\", \"Docker\", \"Adaptable\", \"lead\", \"understanding\", \"collaborate\", \"detail oriented\", \"engineer\", \"develop\", \"full stack\", \"mysql\", \"windows\", \"Object-Oriented\", \"Object Oriented\", \"programming\", \"unix\", \"data\", \"cloud\", \"ci/cd\", \"saas\", \"mock-up\", \"web-site\", \"backend\", \"frontend\", \"life cycle\", ]\n",
    "\n",
    "JOB_TITLE_WORDS = [\"computer\", \"engineer\", \"develop\", \"full stack\", \"software\", \"analyst\", \"architect\", \"app\", \"information\", \"technology\", \"system\", \"program\", \"web\"]\n",
    "\n",
    "EXPERIENCE_NOT_ENOUGH = \"5 years or more\"\n",
    "\n",
    "NUMBER_OF_KEY_WORDS_IN_JOB_DESCRIPTION = 2\n",
    "\n",
    "NUMBER_OF_KEY_WORDS_IN_JOB_TITLE = 0"
   ]
  },
  {
   "cell_type": "code",
   "execution_count": 3,
   "metadata": {},
   "outputs": [],
   "source": [
    "def trim(text):\n",
    "    if text is not None:\n",
    "        return re.sub(\"\\s+\", ' ', text).strip()\n",
    "\n",
    "def SetupSelenium():\n",
    "    url = f\"{BASE_URL}/jobsearch/jobsearch?sort=M&fskl=15141&fskl=100000\"\n",
    "\n",
    "    chrome_options = Options()\n",
    "    chrome_options.add_argument('--no-sandbox')\n",
    "    chrome_options.add_argument('--headless')\n",
    "\n",
    "    homedir = path.expanduser(\"~\")\n",
    "    webdriver_service = Service(f\"{homedir}/chromedriver/stable/chromedriver\")\n",
    "\n",
    "    browser = webdriver.Chrome(service=webdriver_service, options=chrome_options)\n",
    "\n",
    "    browser.get(url)\n",
    "\n",
    "    return browser\n",
    "\n",
    "def GetTotalNumberOfJobs(browser):\n",
    "    totalNumberOfJobs = int(browser.find_element(By.XPATH, \"//span[@class='found']\").get_attribute(\"textContent\"))\n",
    "    print(\"TOTAL NUMBER OF JOBS: \", totalNumberOfJobs)\n",
    "    return totalNumberOfJobs\n",
    "\n",
    "def ClickMoreResults(browser, numberOfClicks):\n",
    "    for i in range(numberOfClicks):\n",
    "        moreResultsButton = browser.find_element(By.XPATH, \"//button[@id='moreresultbutton']\")\n",
    "        browser.execute_script(\"arguments[0].click();\", moreResultsButton)\n",
    "        sleep(1)\n",
    "\n",
    "def GetJobs(articles):\n",
    "    jobUrls = []\n",
    "    for job in articles:\n",
    "        jobTitle = trim(job.find_element(By.XPATH, \".//span[@class='noctitle']\").get_attribute(\"textContent\"))\n",
    "        aTag = job.find_element(By.XPATH, \".//a\")\n",
    "        link = aTag.get_attribute(\"href\")\n",
    "        jobUrls.append({\"title\": jobTitle, \"link\": link})\n",
    "    return jobUrls\n",
    "\n",
    "def FilterJobsBasedOnTitle(jobs):\n",
    "    filteredJobs = []\n",
    "    for job in jobs:\n",
    "        jobTitleMatches = [ele for ele in JOB_TITLE_WORDS if(ele in job[\"title\"])]\n",
    "        if len(jobTitleMatches) > NUMBER_OF_KEY_WORDS_IN_JOB_TITLE:\n",
    "            filteredJobs.append(job[\"link\"])\n",
    "    print(\"NUMBER OF JOBS AFTER FILTERING TITLE: \", len(filteredJobs))\n",
    "    return filteredJobs\n",
    "\n",
    "def FilterJobsBasedOnExperience(jobs):\n",
    "    filteredJobs = []\n",
    "    for job in jobs:\n",
    "            filteredJobs.append(job[\"link\"])\n",
    "    print(\"NUMBER OF JOBS AFTER FILTERING TITLE: \", len(filteredJobs))\n",
    "    return filteredJobs\n",
    "\n",
    "def GetXPathElementText(browser, XPATH):\n",
    "    element = browser.find_elements(By.XPATH, XPATH)\n",
    "    if len(element) == 1:\n",
    "        return element[0].get_attribute(\"textContent\")\n",
    "\n",
    "def GetMatchedJobInfo(browser):\n",
    "    minSalary = GetXPathElementText(browser, \"//span[@property='minValue']\")\n",
    "    maxSalary = GetXPathElementText(browser, \"//span[@property='maxValue']\")\n",
    "    workHours = GetXPathElementText(browser, \"//span[@property='workHours']\")\n",
    "    companyName = trim(GetXPathElementText(browser, \"//span[@property='hiringOrganization']\"))\n",
    "    experience = trim(GetXPathElementText(browser, \"//p[@property='experienceRequirements qualification']\"))\n",
    "    return {\"minSalary\": minSalary, \"maxSalary\": maxSalary, \"workHours\": workHours, \"companyName\": companyName, \"experience\": experience}"
   ]
  },
  {
   "cell_type": "code",
   "execution_count": 4,
   "metadata": {},
   "outputs": [
    {
     "name": "stdout",
     "output_type": "stream",
     "text": [
      "TOTAL NUMBER OF JOBS:  894\n",
      "NUMBER OF CLICKS:  35\n",
      "NUMBER OF JOBS BEFORE CLICKS: 25\n",
      "NUMBER OF JOBS AFTER CLICK: 894\n"
     ]
    }
   ],
   "source": [
    "browser = SetupSelenium()\n",
    "\n",
    "totalNumberOfJobs = GetTotalNumberOfJobs(browser)\n",
    "\n",
    "numberOfClicks = int(totalNumberOfJobs/25)\n",
    "print(\"NUMBER OF CLICKS: \", numberOfClicks)\n",
    "\n",
    "articles = browser.find_elements(By.XPATH, '//article')\n",
    "print(\"NUMBER OF JOBS BEFORE CLICKS:\", len(articles))\n",
    "\n",
    "ClickMoreResults(browser, numberOfClicks)\n",
    "\n",
    "articlesAfterClicks = browser.find_elements(By.XPATH, '//article')\n",
    "print(\"NUMBER OF JOBS AFTER CLICK:\", len(articlesAfterClicks))\n",
    "\n",
    "allJobs = GetJobs(articlesAfterClicks)"
   ]
  },
  {
   "cell_type": "code",
   "execution_count": 5,
   "metadata": {},
   "outputs": [
    {
     "name": "stdout",
     "output_type": "stream",
     "text": [
      "NUMBER OF JOBS AFTER FILTERING TITLE:  209\n"
     ]
    }
   ],
   "source": [
    "jobsFilteredByTitle = FilterJobsBasedOnTitle(allJobs)"
   ]
  },
  {
   "cell_type": "code",
   "execution_count": 6,
   "metadata": {},
   "outputs": [],
   "source": [
    "descriptions = []\n",
    "for url in jobsFilteredByTitle:\n",
    "    browser.get(url)\n",
    "    descriptions.append(trim(GetXPathElementText(browser, \"//div[@class='job-posting-detail-requirements ']\")))"
   ]
  },
  {
   "cell_type": "code",
   "execution_count": null,
   "metadata": {},
   "outputs": [],
   "source": [
    "import collections\n",
    "\n",
    "bigDescriptionString = \" \".join(descriptions)\n",
    "\n",
    "countedWords = dict(collections.Counter(bigDescriptionString.split()))\n",
    "\n",
    "countedWordsSorted = dict(sorted(countedWords.items(), key=lambda item: item[1]))\n",
    "\n",
    "with open(\"most-common-words.json\", \"w\") as final:\n",
    "   json.dump(countedWordsSorted, final)"
   ]
  },
  {
   "cell_type": "code",
   "execution_count": null,
   "metadata": {},
   "outputs": [],
   "source": [
    "jobsWithKeywords = []\n",
    "\n",
    "for url in jobsFilteredByTitle:\n",
    "    browser.get(url)\n",
    "\n",
    "    jobDescription = trim(GetXPathElementText(browser, \"//div[@class='job-posting-detail-requirements ']\"))\n",
    "    matchedKeyWords = [ele for ele in KEY_WORDS if(ele in jobDescription)]\n",
    "\n",
    "    experience = trim(GetXPathElementText(browser, \"//p[@property='experienceRequirements qualification']\"))\n",
    "\n",
    "    if len(matchedKeyWords) > NUMBER_OF_KEY_WORDS_IN_JOB_DESCRIPTION and experience != EXPERIENCE_NOT_ENOUGH:\n",
    "        jobTitle = trim(GetXPathElementText(browser, \"//span[@property='title']\"))\n",
    "        print(f\"TITLE: {jobTitle}, URL: {url}\")\n",
    "        jobInfo = GetMatchedJobInfo(browser)\n",
    "        jobInfo.update({\"Title\": jobTitle, \"KeyWords\": matchedKeyWords, \"link\": url})\n",
    "        jobsWithKeywords.append(jobInfo)"
   ]
  },
  {
   "cell_type": "code",
   "execution_count": 26,
   "metadata": {},
   "outputs": [],
   "source": [
    "with open(\"mydata.json\", \"w\") as final:\n",
    "   json.dump(jobsWithKeywords, final)\n",
    "\n",
    "browser.quit()"
   ]
  },
  {
   "cell_type": "code",
   "execution_count": 27,
   "metadata": {},
   "outputs": [],
   "source": [
    "import json\n",
    "import csv\n",
    "\n",
    "with open('./mydata.json') as json_file:\n",
    "    jsondata = json.load(json_file)\n",
    "\n",
    "data_file = open('jobs.csv', 'w', newline='')\n",
    "csv_writer = csv.writer(data_file)\n",
    "\n",
    "count = 0\n",
    "for data in jsondata:\n",
    "    if count == 0:\n",
    "        header = data.keys()\n",
    "        csv_writer.writerow(header)\n",
    "        count += 1\n",
    "    csv_writer.writerow(data.values())\n",
    "\n",
    "data_file.close()"
   ]
  }
 ],
 "metadata": {
  "kernelspec": {
   "display_name": "Python 3",
   "language": "python",
   "name": "python3"
  },
  "language_info": {
   "codemirror_mode": {
    "name": "ipython",
    "version": 3
   },
   "file_extension": ".py",
   "mimetype": "text/x-python",
   "name": "python",
   "nbconvert_exporter": "python",
   "pygments_lexer": "ipython3",
   "version": "3.10.6"
  },
  "orig_nbformat": 4,
  "vscode": {
   "interpreter": {
    "hash": "31f2aee4e71d21fbe5cf8b01ff0e069b9275f58929596ceb00d14d90e3e16cd6"
   }
  }
 },
 "nbformat": 4,
 "nbformat_minor": 2
}
